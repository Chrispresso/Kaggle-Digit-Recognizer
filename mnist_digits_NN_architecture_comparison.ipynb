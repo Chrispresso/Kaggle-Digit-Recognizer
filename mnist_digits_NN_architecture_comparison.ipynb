{
 "cells": [
  {
   "cell_type": "code",
   "execution_count": 1,
   "metadata": {},
   "outputs": [],
   "source": [
    "import os\n",
    "import pandas as pd\n",
    "import tensorflow as tf\n",
    "import numpy as np\n",
    "from sklearn.model_selection import train_test_split\n",
    "from sklearn.metrics import confusion_matrix\n",
    "from sklearn.utils.multiclass import unique_labels\n",
    "from tensorflow.keras.models import Sequential, save_model, load_model\n",
    "from tensorflow.keras.preprocessing.image import ImageDataGenerator\n",
    "from tensorflow.keras.callbacks import ReduceLROnPlateau\n",
    "from tensorflow.keras.layers import Dense, Input, Conv2D, BatchNormalization, MaxPool2D, Flatten, Dropout\n",
    "from tensorflow.keras.utils import plot_model, to_categorical\n",
    "from tensorflow.keras.optimizers import RMSprop, SGD, Adam, Adagrad, Adadelta, Adamax, Nadam, Optimizer\n",
    "import matplotlib.pyplot as plt\n",
    "from typing import List, Union\n",
    "import sys\n",
    "os.environ['TF_CPP_MIN_LOG_LEVEL'] = '2'\n",
    "%matplotlib inline"
   ]
  },
  {
   "cell_type": "markdown",
   "metadata": {},
   "source": [
    "## Exploring our Data"
   ]
  },
  {
   "cell_type": "code",
   "execution_count": 2,
   "metadata": {},
   "outputs": [],
   "source": [
    "data_folder = os.path.join(os.getcwd(), '..',  'Data', 'Kaggle MNIST Digits')"
   ]
  },
  {
   "cell_type": "markdown",
   "metadata": {},
   "source": [
    "So what's in the data folder?"
   ]
  },
  {
   "cell_type": "code",
   "execution_count": 3,
   "metadata": {},
   "outputs": [
    {
     "name": "stdout",
     "output_type": "stream",
     "text": [
      "['test.csv', 'train.csv']\n"
     ]
    }
   ],
   "source": [
    "print(os.listdir(data_folder))"
   ]
  },
  {
   "cell_type": "markdown",
   "metadata": {},
   "source": [
    "Next let's load and look at what data is inside `train.csv`:"
   ]
  },
  {
   "cell_type": "code",
   "execution_count": 4,
   "metadata": {},
   "outputs": [
    {
     "name": "stdout",
     "output_type": "stream",
     "text": [
      "Shape: (42000, 785)\n"
     ]
    },
    {
     "data": {
      "text/html": [
       "<div>\n",
       "<style scoped>\n",
       "    .dataframe tbody tr th:only-of-type {\n",
       "        vertical-align: middle;\n",
       "    }\n",
       "\n",
       "    .dataframe tbody tr th {\n",
       "        vertical-align: top;\n",
       "    }\n",
       "\n",
       "    .dataframe thead th {\n",
       "        text-align: right;\n",
       "    }\n",
       "</style>\n",
       "<table border=\"1\" class=\"dataframe\">\n",
       "  <thead>\n",
       "    <tr style=\"text-align: right;\">\n",
       "      <th></th>\n",
       "      <th>label</th>\n",
       "      <th>pixel0</th>\n",
       "      <th>pixel1</th>\n",
       "      <th>pixel2</th>\n",
       "      <th>pixel3</th>\n",
       "      <th>pixel4</th>\n",
       "      <th>pixel5</th>\n",
       "      <th>pixel6</th>\n",
       "      <th>pixel7</th>\n",
       "      <th>pixel8</th>\n",
       "      <th>...</th>\n",
       "      <th>pixel774</th>\n",
       "      <th>pixel775</th>\n",
       "      <th>pixel776</th>\n",
       "      <th>pixel777</th>\n",
       "      <th>pixel778</th>\n",
       "      <th>pixel779</th>\n",
       "      <th>pixel780</th>\n",
       "      <th>pixel781</th>\n",
       "      <th>pixel782</th>\n",
       "      <th>pixel783</th>\n",
       "    </tr>\n",
       "  </thead>\n",
       "  <tbody>\n",
       "    <tr>\n",
       "      <th>0</th>\n",
       "      <td>1</td>\n",
       "      <td>0</td>\n",
       "      <td>0</td>\n",
       "      <td>0</td>\n",
       "      <td>0</td>\n",
       "      <td>0</td>\n",
       "      <td>0</td>\n",
       "      <td>0</td>\n",
       "      <td>0</td>\n",
       "      <td>0</td>\n",
       "      <td>...</td>\n",
       "      <td>0</td>\n",
       "      <td>0</td>\n",
       "      <td>0</td>\n",
       "      <td>0</td>\n",
       "      <td>0</td>\n",
       "      <td>0</td>\n",
       "      <td>0</td>\n",
       "      <td>0</td>\n",
       "      <td>0</td>\n",
       "      <td>0</td>\n",
       "    </tr>\n",
       "    <tr>\n",
       "      <th>1</th>\n",
       "      <td>0</td>\n",
       "      <td>0</td>\n",
       "      <td>0</td>\n",
       "      <td>0</td>\n",
       "      <td>0</td>\n",
       "      <td>0</td>\n",
       "      <td>0</td>\n",
       "      <td>0</td>\n",
       "      <td>0</td>\n",
       "      <td>0</td>\n",
       "      <td>...</td>\n",
       "      <td>0</td>\n",
       "      <td>0</td>\n",
       "      <td>0</td>\n",
       "      <td>0</td>\n",
       "      <td>0</td>\n",
       "      <td>0</td>\n",
       "      <td>0</td>\n",
       "      <td>0</td>\n",
       "      <td>0</td>\n",
       "      <td>0</td>\n",
       "    </tr>\n",
       "    <tr>\n",
       "      <th>2</th>\n",
       "      <td>1</td>\n",
       "      <td>0</td>\n",
       "      <td>0</td>\n",
       "      <td>0</td>\n",
       "      <td>0</td>\n",
       "      <td>0</td>\n",
       "      <td>0</td>\n",
       "      <td>0</td>\n",
       "      <td>0</td>\n",
       "      <td>0</td>\n",
       "      <td>...</td>\n",
       "      <td>0</td>\n",
       "      <td>0</td>\n",
       "      <td>0</td>\n",
       "      <td>0</td>\n",
       "      <td>0</td>\n",
       "      <td>0</td>\n",
       "      <td>0</td>\n",
       "      <td>0</td>\n",
       "      <td>0</td>\n",
       "      <td>0</td>\n",
       "    </tr>\n",
       "    <tr>\n",
       "      <th>3</th>\n",
       "      <td>4</td>\n",
       "      <td>0</td>\n",
       "      <td>0</td>\n",
       "      <td>0</td>\n",
       "      <td>0</td>\n",
       "      <td>0</td>\n",
       "      <td>0</td>\n",
       "      <td>0</td>\n",
       "      <td>0</td>\n",
       "      <td>0</td>\n",
       "      <td>...</td>\n",
       "      <td>0</td>\n",
       "      <td>0</td>\n",
       "      <td>0</td>\n",
       "      <td>0</td>\n",
       "      <td>0</td>\n",
       "      <td>0</td>\n",
       "      <td>0</td>\n",
       "      <td>0</td>\n",
       "      <td>0</td>\n",
       "      <td>0</td>\n",
       "    </tr>\n",
       "    <tr>\n",
       "      <th>4</th>\n",
       "      <td>0</td>\n",
       "      <td>0</td>\n",
       "      <td>0</td>\n",
       "      <td>0</td>\n",
       "      <td>0</td>\n",
       "      <td>0</td>\n",
       "      <td>0</td>\n",
       "      <td>0</td>\n",
       "      <td>0</td>\n",
       "      <td>0</td>\n",
       "      <td>...</td>\n",
       "      <td>0</td>\n",
       "      <td>0</td>\n",
       "      <td>0</td>\n",
       "      <td>0</td>\n",
       "      <td>0</td>\n",
       "      <td>0</td>\n",
       "      <td>0</td>\n",
       "      <td>0</td>\n",
       "      <td>0</td>\n",
       "      <td>0</td>\n",
       "    </tr>\n",
       "  </tbody>\n",
       "</table>\n",
       "<p>5 rows × 785 columns</p>\n",
       "</div>"
      ],
      "text/plain": [
       "   label  pixel0  pixel1  pixel2  pixel3  pixel4  pixel5  pixel6  pixel7  \\\n",
       "0      1       0       0       0       0       0       0       0       0   \n",
       "1      0       0       0       0       0       0       0       0       0   \n",
       "2      1       0       0       0       0       0       0       0       0   \n",
       "3      4       0       0       0       0       0       0       0       0   \n",
       "4      0       0       0       0       0       0       0       0       0   \n",
       "\n",
       "   pixel8  ...  pixel774  pixel775  pixel776  pixel777  pixel778  pixel779  \\\n",
       "0       0  ...         0         0         0         0         0         0   \n",
       "1       0  ...         0         0         0         0         0         0   \n",
       "2       0  ...         0         0         0         0         0         0   \n",
       "3       0  ...         0         0         0         0         0         0   \n",
       "4       0  ...         0         0         0         0         0         0   \n",
       "\n",
       "   pixel780  pixel781  pixel782  pixel783  \n",
       "0         0         0         0         0  \n",
       "1         0         0         0         0  \n",
       "2         0         0         0         0  \n",
       "3         0         0         0         0  \n",
       "4         0         0         0         0  \n",
       "\n",
       "[5 rows x 785 columns]"
      ]
     },
     "execution_count": 4,
     "metadata": {},
     "output_type": "execute_result"
    }
   ],
   "source": [
    "train_data = pd.read_csv(os.path.join(data_folder, 'train.csv'))\n",
    "test_data = pd.read_csv(os.path.join(data_folder, 'test.csv'))\n",
    "print('Shape:',train_data.shape)\n",
    "train_data.head()"
   ]
  },
  {
   "cell_type": "markdown",
   "metadata": {},
   "source": [
    "The data consists of a label, i.e. 0-9 and 784 feature columns with values 0-255 for pixel intensity. Because the images are of size 28x28, we end up with 784 feature columns.\n",
    "\n",
    "Next let's cleanup the data a bit. We do this by removing the label column for training purposes. It would be pretty silly to train a neural network with the answer as part of the input! We will also normalize the data by dividing input values by the max possible value, which in this case is 255. This makes it so all values are treated equally."
   ]
  },
  {
   "cell_type": "code",
   "execution_count": 5,
   "metadata": {},
   "outputs": [],
   "source": [
    "Y_train = train_data['label'].values\n",
    "X_train = train_data.drop(columns=['label']).values / 255.0\n",
    "X_test = test_data.values / 255.0"
   ]
  },
  {
   "cell_type": "markdown",
   "metadata": {},
   "source": [
    "## Some Examples of Input Data"
   ]
  },
  {
   "cell_type": "markdown",
   "metadata": {},
   "source": [
    "It is often very useful to be able to see what the input data is. The above output of pixel values doesn't quite do it for me. Let's instead convert the 784 feature column back into 28x28 images. You can probably already imagine what the data will look like."
   ]
  },
  {
   "cell_type": "code",
   "execution_count": 6,
   "metadata": {},
   "outputs": [
    {
     "data": {
      "image/png": "[encoded data removed]",
      "text/plain": [
       "<Figure size 648x648 with 9 Axes>"
      ]
     },
     "metadata": {
      "needs_background": "light"
     },
     "output_type": "display_data"
    }
   ],
   "source": [
    "np.random.seed(0xBEEF)  # Reproducibility\n",
    "fig, axes = plt.subplots(3, 3, figsize=(9, 9))\n",
    "axes = axes.ravel()\n",
    "indices = np.random.randint(0, train_data.shape[0], size=9)  # Grab 9 random indices from train data\n",
    "for i in range(9):\n",
    "    axes[i].imshow(X_train[indices[i], :].reshape(28, 28), cmap='gray')\n",
    "    axes[i].axis('off')  # Nobody cares about the axes :(\n",
    "    label = Y_train[indices[i]]  # The actual label for this data\n",
    "    axes[i].set_title(label, fontsize=20)\n",
    "plt.show()"
   ]
  },
  {
   "cell_type": "markdown",
   "metadata": {},
   "source": [
    "As you can see, the images are numbers. Once again, computers do not see these as a number. Let's look at what the computer sees quickly. I will print out how the computer sees the \"1\" in the upper left of the images from above:"
   ]
  },
  {
   "cell_type": "code",
   "execution_count": 7,
   "metadata": {},
   "outputs": [
    {
     "name": "stdout",
     "output_type": "stream",
     "text": [
      "Label: 1\n",
      "Array:\n",
      " [[0.         0.         0.         0.         0.         0.\n",
      "  0.         0.         0.         0.         0.         0.\n",
      "  0.         0.         0.         0.         0.         0.\n",
      "  0.         0.         0.         0.         0.         0.\n",
      "  0.         0.         0.         0.        ]\n",
      " [0.         0.         0.         0.         0.         0.\n",
      "  0.         0.         0.         0.         0.         0.\n",
      "  0.         0.         0.         0.         0.         0.\n",
      "  0.         0.         0.         0.         0.         0.\n",
      "  0.         0.         0.         0.        ]\n",
      " [0.         0.         0.         0.         0.         0.\n",
      "  0.         0.         0.         0.         0.         0.\n",
      "  0.         0.         0.         0.         0.         0.\n",
      "  0.         0.         0.         0.         0.         0.\n",
      "  0.         0.         0.         0.        ]\n",
      " [0.         0.         0.         0.         0.         0.\n",
      "  0.         0.         0.         0.         0.         0.\n",
      "  0.         0.         0.         0.         0.         0.\n",
      "  0.         0.         0.         0.         0.         0.\n",
      "  0.         0.         0.         0.        ]\n",
      " [0.         0.         0.         0.         0.         0.\n",
      "  0.         0.         0.         0.         0.         0.\n",
      "  0.         0.         0.         0.         0.         0.\n",
      "  0.         0.         0.         0.         0.         0.\n",
      "  0.         0.         0.         0.        ]\n",
      " [0.         0.         0.         0.         0.         0.\n",
      "  0.         0.         0.         0.         0.         0.35686275\n",
      "  0.99215686 0.99215686 0.         0.         0.         0.\n",
      "  0.         0.         0.         0.         0.         0.\n",
      "  0.         0.         0.         0.        ]\n",
      " [0.         0.         0.         0.         0.         0.\n",
      "  0.         0.         0.         0.         0.         0.62745098\n",
      "  0.98823529 0.98823529 0.50196078 0.         0.         0.\n",
      "  0.         0.         0.         0.         0.         0.\n",
      "  0.         0.         0.         0.        ]\n",
      " [0.         0.         0.         0.         0.         0.\n",
      "  0.         0.         0.         0.         0.         0.62745098\n",
      "  0.98823529 0.98823529 0.69803922 0.01960784 0.         0.\n",
      "  0.         0.         0.         0.         0.         0.\n",
      "  0.         0.         0.         0.        ]\n",
      " [0.         0.         0.         0.         0.         0.\n",
      "  0.         0.         0.         0.         0.         0.18823529\n",
      "  0.98823529 0.98823529 0.99215686 0.49411765 0.         0.\n",
      "  0.         0.         0.         0.         0.         0.\n",
      "  0.         0.         0.         0.        ]\n",
      " [0.         0.         0.         0.         0.         0.\n",
      "  0.         0.         0.         0.         0.         0.02352941\n",
      "  0.65882353 0.98823529 0.99215686 0.56862745 0.         0.\n",
      "  0.         0.         0.         0.         0.         0.\n",
      "  0.         0.         0.         0.        ]\n",
      " [0.         0.         0.         0.         0.         0.\n",
      "  0.         0.         0.         0.         0.         0.02352941\n",
      "  0.6627451  0.98823529 0.99215686 0.56862745 0.         0.\n",
      "  0.         0.         0.         0.         0.         0.\n",
      "  0.         0.         0.         0.        ]\n",
      " [0.         0.         0.         0.         0.         0.\n",
      "  0.         0.         0.         0.         0.         0.03529412\n",
      "  0.70196078 0.98823529 0.99215686 0.56862745 0.         0.\n",
      "  0.         0.         0.         0.         0.         0.\n",
      "  0.         0.         0.         0.        ]\n",
      " [0.         0.         0.         0.         0.         0.\n",
      "  0.         0.         0.         0.         0.         0.\n",
      "  0.57254902 0.98823529 0.99215686 0.56862745 0.         0.\n",
      "  0.         0.         0.         0.         0.         0.\n",
      "  0.         0.         0.         0.        ]\n",
      " [0.         0.         0.         0.         0.         0.\n",
      "  0.         0.         0.         0.         0.         0.\n",
      "  0.57254902 0.98823529 0.99215686 0.59215686 0.00784314 0.\n",
      "  0.         0.         0.         0.         0.         0.\n",
      "  0.         0.         0.         0.        ]\n",
      " [0.         0.         0.         0.         0.         0.\n",
      "  0.         0.         0.         0.         0.         0.\n",
      "  0.57254902 0.98823529 0.99215686 0.98823529 0.10196078 0.\n",
      "  0.         0.         0.         0.         0.         0.\n",
      "  0.         0.         0.         0.        ]\n",
      " [0.         0.         0.         0.         0.         0.\n",
      "  0.         0.         0.         0.         0.         0.\n",
      "  0.57647059 0.99215686 1.         0.99215686 0.10196078 0.\n",
      "  0.         0.         0.         0.         0.         0.\n",
      "  0.         0.         0.         0.        ]\n",
      " [0.         0.         0.         0.         0.         0.\n",
      "  0.         0.         0.         0.         0.         0.\n",
      "  0.57254902 0.98823529 0.99215686 0.98823529 0.10196078 0.\n",
      "  0.         0.         0.         0.         0.         0.\n",
      "  0.         0.         0.         0.        ]\n",
      " [0.         0.         0.         0.         0.         0.\n",
      "  0.         0.         0.         0.         0.         0.\n",
      "  0.57254902 0.98823529 0.99215686 0.98823529 0.10196078 0.\n",
      "  0.         0.         0.         0.         0.         0.\n",
      "  0.         0.         0.         0.        ]\n",
      " [0.         0.         0.         0.         0.         0.\n",
      "  0.         0.         0.         0.         0.         0.\n",
      "  0.57254902 0.98823529 0.99215686 0.98823529 0.10196078 0.\n",
      "  0.         0.         0.         0.         0.         0.\n",
      "  0.         0.         0.         0.        ]\n",
      " [0.         0.         0.         0.         0.         0.\n",
      "  0.         0.         0.         0.         0.         0.\n",
      "  0.57254902 0.98823529 0.99215686 0.98823529 0.10196078 0.\n",
      "  0.         0.         0.         0.         0.         0.\n",
      "  0.         0.         0.         0.        ]\n",
      " [0.         0.         0.         0.         0.         0.\n",
      "  0.         0.         0.         0.         0.         0.\n",
      "  0.18823529 0.98823529 0.99215686 0.98823529 0.10196078 0.\n",
      "  0.         0.         0.         0.         0.         0.\n",
      "  0.         0.         0.         0.        ]\n",
      " [0.         0.         0.         0.         0.         0.\n",
      "  0.         0.         0.         0.         0.         0.\n",
      "  0.04705882 0.91372549 0.99215686 0.98823529 0.18431373 0.\n",
      "  0.         0.         0.         0.         0.         0.\n",
      "  0.         0.         0.         0.        ]\n",
      " [0.         0.         0.         0.         0.         0.\n",
      "  0.         0.         0.         0.         0.         0.\n",
      "  0.         0.47058824 0.99215686 0.98823529 0.56470588 0.\n",
      "  0.         0.         0.         0.         0.         0.\n",
      "  0.         0.         0.         0.        ]\n",
      " [0.         0.         0.         0.         0.         0.\n",
      "  0.         0.         0.         0.         0.         0.\n",
      "  0.         0.         0.99215686 0.98823529 0.10196078 0.\n",
      "  0.         0.         0.         0.         0.         0.\n",
      "  0.         0.         0.         0.        ]\n",
      " [0.         0.         0.         0.         0.         0.\n",
      "  0.         0.         0.         0.         0.         0.\n",
      "  0.         0.         0.71764706 0.76470588 0.04705882 0.\n",
      "  0.         0.         0.         0.         0.         0.\n",
      "  0.         0.         0.         0.        ]\n",
      " [0.         0.         0.         0.         0.         0.\n",
      "  0.         0.         0.         0.         0.         0.\n",
      "  0.         0.         0.         0.         0.         0.\n",
      "  0.         0.         0.         0.         0.         0.\n",
      "  0.         0.         0.         0.        ]\n",
      " [0.         0.         0.         0.         0.         0.\n",
      "  0.         0.         0.         0.         0.         0.\n",
      "  0.         0.         0.         0.         0.         0.\n",
      "  0.         0.         0.         0.         0.         0.\n",
      "  0.         0.         0.         0.        ]\n",
      " [0.         0.         0.         0.         0.         0.\n",
      "  0.         0.         0.         0.         0.         0.\n",
      "  0.         0.         0.         0.         0.         0.\n",
      "  0.         0.         0.         0.         0.         0.\n",
      "  0.         0.         0.         0.        ]]\n"
     ]
    }
   ],
   "source": [
    "print('Label:', Y_train[indices[0]])\n",
    "print('Array:\\n',  X_train[indices[0], :].reshape(28, 28))"
   ]
  },
  {
   "cell_type": "markdown",
   "metadata": {},
   "source": [
    "## Creating the Network"
   ]
  },
  {
   "cell_type": "markdown",
   "metadata": {},
   "source": [
    "First we need something to be able to model the network. This is pretty easy to do with TensorFlow and Keras. I will start by defining a function to use as a template for creating a layer with some number of hidden units."
   ]
  },
  {
   "cell_type": "code",
   "execution_count": 8,
   "metadata": {
    "scrolled": true
   },
   "outputs": [
    {
     "name": "stdout",
     "output_type": "stream",
     "text": [
      "WARNING:tensorflow:From c:\\users\\cjwil\\appdata\\local\\programs\\python\\python37\\lib\\site-packages\\tensorflow\\python\\ops\\resource_variable_ops.py:435: colocate_with (from tensorflow.python.framework.ops) is deprecated and will be removed in a future version.\n",
      "Instructions for updating:\n",
      "Colocations handled automatically by placer.\n"
     ]
    }
   ],
   "source": [
    "def multi_layer_network(num_inputs: int, num_outputs: int, \n",
    "                        hidden_layer_sizes: List[int], \n",
    "                        activations: List[str],\n",
    "                        optimizer: Optimizer) -> Sequential:\n",
    "    \"\"\"\n",
    "    Creates a fully connected Neural Network where\n",
    "        num_inputs: Number of input features exluding the bias\n",
    "        num_outputs: Number of outputs\n",
    "        hidden_layer_sizes: A list representing the number of hidden units in each layer\n",
    "        activations: A list containing which activation to use after each layer\n",
    "        optimizer: An optimizer to use\n",
    "    \"\"\"\n",
    "    assert len(hidden_layer_sizes) == len(activations), 'activations need to be the same length as hidden_layer_sizes'\n",
    "    num_layers = len(hidden_layer_sizes) + 1\n",
    "    model = Sequential(name=\"{} layer Neural Networ\".format(num_layers))\n",
    "    \n",
    "    first_layer = True\n",
    "    \n",
    "    # Add the hidden layers\n",
    "    for layer in range(len(hidden_layer_sizes)):\n",
    "        layer_name = 'Layer' + str(layer)\n",
    "        # First layer we will define the input_shape\n",
    "        if first_layer:\n",
    "            model.add(Dense(hidden_layer_sizes[layer],activation=activations[layer],\n",
    "                            name='Input', input_shape=(num_inputs,)))\n",
    "            first_layer = False\n",
    "        else:\n",
    "            model.add(Dense(hidden_layer_sizes[layer], activation=activations[layer],\n",
    "                            name=layer_name))\n",
    "    \n",
    "    # Add output\n",
    "    model.add(Dense(num_outputs, activation='softmax', name='Output'))\n",
    "    \n",
    "    # Compile the model\n",
    "    # categorical_ctrossentropy is used since I'll be using one-hot\n",
    "    model.compile(optimizer = optimizer, loss='categorical_crossentropy', metrics=['accuracy'])\n",
    "    \n",
    "    return model\n",
    "\n",
    "optimizer = Adam()\n",
    "h_layers = [256]\n",
    "activations = ['relu']\n",
    "num_inputs = X_train.shape[1]\n",
    "num_outputs = len(set(Y_train))\n",
    "\n",
    "model = multi_layer_network(num_inputs, num_outputs, h_layers, activations, optimizer)\n",
    "plot_model(model, show_shapes=True, to_file='simple_NN.png')"
   ]
  },
  {
   "cell_type": "markdown",
   "metadata": {},
   "source": [
    "![Simple Neural Network Model](simple_NN.png)"
   ]
  },
  {
   "cell_type": "markdown",
   "metadata": {},
   "source": [
    "As you can see from the image above, the model is quite simple. It consists of 784 inputs (the pixel values), followed by 256 nodes in the hidden layers, and finally 10 outputs. These outputs are one-hot encoded, meaning all outputs are of the same shape and can only have one value of \"1\", while the rest of the values are \"0\". An example would be:<br>\n",
    "&nbsp;&nbsp;&nbsp;&nbsp;&nbsp;&nbsp;0: \\[1, 0, 0, 0, 0, 0, 0, 0, 0, 0\\],<br>\n",
    "&nbsp;&nbsp;&nbsp;&nbsp;&nbsp;&nbsp;1: \\[0, 1, 0, 0, 0, 0, 0, 0, 0, 0\\],<br>\n",
    "&nbsp;&nbsp;&nbsp;&nbsp;&nbsp;&nbsp;2: \\[0, 0, 1, 0, 0, 0, 0, 0, 0, 0\\],<br>\n",
    "&nbsp;&nbsp;&nbsp;&nbsp;&nbsp;&nbsp;&nbsp;&nbsp;&nbsp;&nbsp;&nbsp;&nbsp;\n",
    "&nbsp;&nbsp;&nbsp;&nbsp;&nbsp;&nbsp;&nbsp;&nbsp;&nbsp;&nbsp;&nbsp;&nbsp;...<br>\n",
    "&nbsp;&nbsp;&nbsp;&nbsp;&nbsp;&nbsp;9: \\[0, 0, 0, 0, 0, 0, 0, 0, 0, 1\\],<br>"
   ]
  },
  {
   "cell_type": "code",
   "execution_count": 9,
   "metadata": {},
   "outputs": [],
   "source": [
    "seed=0\n",
    "Y_train = to_categorical(Y_train, num_classes=10)\n",
    "X_train, X_val, Y_train, Y_val = train_test_split(X_train, Y_train, test_size=.2, random_state=seed)"
   ]
  },
  {
   "cell_type": "code",
   "execution_count": 10,
   "metadata": {
    "scrolled": false
   },
   "outputs": [
    {
     "name": "stdout",
     "output_type": "stream",
     "text": [
      "WARNING:tensorflow:From c:\\users\\cjwil\\appdata\\local\\programs\\python\\python37\\lib\\site-packages\\tensorflow\\python\\ops\\math_ops.py:3066: to_int32 (from tensorflow.python.ops.math_ops) is deprecated and will be removed in a future version.\n",
      "Instructions for updating:\n",
      "Use tf.cast instead.\n"
     ]
    },
    {
     "data": {
      "text/plain": [
       "<tensorflow.python.keras.callbacks.History at 0x21d8097aef0>"
      ]
     },
     "execution_count": 10,
     "metadata": {},
     "output_type": "execute_result"
    }
   ],
   "source": [
    "model.fit(X_train, Y_train, epochs=50, validation_data=(X_val, Y_val), verbose=0)"
   ]
  },
  {
   "cell_type": "markdown",
   "metadata": {},
   "source": [
    "Now for a quick evaluation of our model on our validation data:"
   ]
  },
  {
   "cell_type": "code",
   "execution_count": 11,
   "metadata": {},
   "outputs": [
    {
     "name": "stdout",
     "output_type": "stream",
     "text": [
      "8400/8400 [==============================] - 0s 50us/sample - loss: 0.1682 - acc: 0.9764\n"
     ]
    },
    {
     "data": {
      "text/plain": [
       "[0.1681896529137819, 0.97642857]"
      ]
     },
     "execution_count": 11,
     "metadata": {},
     "output_type": "execute_result"
    }
   ],
   "source": [
    "model.evaluate(X_val, Y_val)"
   ]
  },
  {
   "cell_type": "markdown",
   "metadata": {},
   "source": [
    "97.9% accuracy on the validation data. This isn't bad, but also not great, especially for this specific problem. Now I will save the prediction and submit it to Kaggle to see how it compares to other models."
   ]
  },
  {
   "cell_type": "code",
   "execution_count": 12,
   "metadata": {},
   "outputs": [],
   "source": [
    "Y_hat = model.predict(X_test)"
   ]
  },
  {
   "cell_type": "code",
   "execution_count": 13,
   "metadata": {},
   "outputs": [
    {
     "data": {
      "text/plain": [
       "(28000, 10)"
      ]
     },
     "execution_count": 13,
     "metadata": {},
     "output_type": "execute_result"
    }
   ],
   "source": [
    "Y_hat.shape"
   ]
  },
  {
   "cell_type": "code",
   "execution_count": 14,
   "metadata": {},
   "outputs": [
    {
     "data": {
      "text/plain": [
       "(28000,)"
      ]
     },
     "execution_count": 14,
     "metadata": {},
     "output_type": "execute_result"
    }
   ],
   "source": [
    "Y_pred = np.argmax(Y_hat, axis=1)\n",
    "Y_pred.shape"
   ]
  },
  {
   "cell_type": "code",
   "execution_count": 15,
   "metadata": {},
   "outputs": [],
   "source": [
    "def save_to_csv(prediction, fname):\n",
    "    result = pd.Series(prediction, name='Label')\n",
    "    submission = pd.concat([pd.Series(range(1, prediction.shape[0] + 1), name='ImageId'), result],\n",
    "                          axis=1)\n",
    "    submission.to_csv(fname, index=False)\n",
    "    \n",
    "save_to_csv(Y_pred, 'prediction_NN.csv')"
   ]
  },
  {
   "cell_type": "markdown",
   "metadata": {},
   "source": [
    "This gives ~97% accuracy. This only lands me in top 67% of the Kaggle competition (more on this later). One thing we can do is create a deeper Neural Network and see if it can better generalize the problem."
   ]
  },
  {
   "cell_type": "markdown",
   "metadata": {},
   "source": [
    "## Deep Neural Network"
   ]
  },
  {
   "cell_type": "markdown",
   "metadata": {},
   "source": [
    "You have seen how a Neural Network with one hidden layers performs. Now let's see how a Deep Neural Network with 3 hidden layers performs! For this I will use the Adam optimizer with default arguments and hidden layers with 256, 128 and 64 nodes in them."
   ]
  },
  {
   "cell_type": "code",
   "execution_count": 16,
   "metadata": {},
   "outputs": [],
   "source": [
    "optimizer = Adam()\n",
    "h_layers = [256, 128, 64]\n",
    "activations = ['relu'] * 3\n",
    "num_inputs = X_train.shape[1]\n",
    "\n",
    "model = multi_layer_network(num_inputs, num_outputs, h_layers, activations, optimizer)\n",
    "plot_model(model, to_file='DeepNN.png', show_shapes=True)"
   ]
  },
  {
   "cell_type": "markdown",
   "metadata": {},
   "source": [
    "![Deep Neural Network](DeepNN.png)"
   ]
  },
  {
   "cell_type": "code",
   "execution_count": 17,
   "metadata": {},
   "outputs": [
    {
     "data": {
      "text/plain": [
       "<tensorflow.python.keras.callbacks.History at 0x21d807fe6d8>"
      ]
     },
     "execution_count": 17,
     "metadata": {},
     "output_type": "execute_result"
    }
   ],
   "source": [
    "model.fit(X_train, Y_train, epochs=50, validation_data=(X_val, Y_val), verbose=0)"
   ]
  },
  {
   "cell_type": "markdown",
   "metadata": {},
   "source": [
    "Now let's see how the model performs on our validation data!"
   ]
  },
  {
   "cell_type": "code",
   "execution_count": 18,
   "metadata": {},
   "outputs": [
    {
     "name": "stdout",
     "output_type": "stream",
     "text": [
      "8400/8400 [==============================] - 0s 53us/sample - loss: 0.1721 - acc: 0.9769\n"
     ]
    },
    {
     "data": {
      "text/plain": [
       "[0.17212830743255916, 0.97690475]"
      ]
     },
     "execution_count": 18,
     "metadata": {},
     "output_type": "execute_result"
    }
   ],
   "source": [
    "model.evaluate(X_val, Y_val)"
   ]
  },
  {
   "cell_type": "code",
   "execution_count": 19,
   "metadata": {},
   "outputs": [],
   "source": [
    "Y_hat = model.predict(X_test)\n",
    "Y_pred = np.argmax(Y_hat, axis=1)\n",
    "save_to_csv(Y_pred, 'prediction_DNN.csv')"
   ]
  },
  {
   "cell_type": "markdown",
   "metadata": {},
   "source": [
    "Just this simple change, which is really just a change of hyperparameters, caused me to get 97.7% accuracy and move to top 60% in the competition. Although the model performs slightly worse on validation data, it seems to generalize better."
   ]
  },
  {
   "cell_type": "markdown",
   "metadata": {},
   "source": [
    "## Using a Convolutional Neural Network"
   ]
  },
  {
   "cell_type": "markdown",
   "metadata": {},
   "source": [
    "From the previous steps you can see that a simple Neural Network performs pretty well on this data. Since this data is just a bunch of images, one thing to try is a Convolutional Neural Network (CNN). At a high level a CNN is a Neural Network Architecture that transforms inputs to outputs. Normally, in a fully connected Neural Network, each input is connected to each node in the hidden layer. With a CNN, however, only a small number of inputs are connected to each node in the hidden layer. For a Neural Netowrk you also have individual weights for each input to node in the hidden layer. When using a CNN, the weights and biases are shared for all hidden units within a layer. This means the neurons are detecting the same feature across the image. This makes the Network tolerant to things like rotation and scaling. We can also use pooling within a CNN to reduce the dimensionality, which then reduces the number of parameters that the Network needs to learn. Let's get started!"
   ]
  },
  {
   "cell_type": "code",
   "execution_count": 20,
   "metadata": {},
   "outputs": [],
   "source": [
    "def build_cnn():\n",
    "    model = Sequential(name='CNN')\n",
    "    \n",
    "    # Conv + Batch norm + Conv + MaxPool + Dropout\n",
    "    model.add(Conv2D(filters=32, kernel_size=(5,5), padding='same', activation='relu',\n",
    "                    input_shape=(28, 28, 1)))\n",
    "    model.add(BatchNormalization())\n",
    "    model.add(Conv2D(filters=32, kernel_size=(5,5), padding='same', activation='relu'))\n",
    "    model.add(MaxPool2D(pool_size=(2, 2)))  # Downscale\n",
    "    model.add(Dropout(rate=.25))\n",
    "    \n",
    "    # Conv + Batch norm + Conv + MaxPool + Dropout\n",
    "    model.add(Conv2D(filters=64, kernel_size=(3,3), padding='same', activation='relu'))\n",
    "    model.add(BatchNormalization())\n",
    "    model.add(Conv2D(filters=64, kernel_size=(3,3), padding='same', activation='relu'))\n",
    "    model.add(MaxPool2D(pool_size=(2, 2), strides=(2, 2)))  # Downscale\n",
    "    model.add(Dropout(rate=.25))\n",
    "    \n",
    "    # Flatten + Dense + D ropout + Dense (output)\n",
    "    model.add(Flatten())\n",
    "    model.add(Dense(256, activation='relu'))\n",
    "    model.add(Dropout(rate=.5))\n",
    "    model.add(Dense(10, activation='softmax'))\n",
    "    \n",
    "    model.compile(optimizer='adam', loss='categorical_crossentropy', metrics=['accuracy'])\n",
    "    return model\n",
    "    "
   ]
  },
  {
   "cell_type": "code",
   "execution_count": 21,
   "metadata": {},
   "outputs": [],
   "source": [
    "reduce_lr = ReduceLROnPlateau(monitor='val_acc', factor=.2, patience=5, min_lr=1e-5, verbose=1)"
   ]
  },
  {
   "cell_type": "code",
   "execution_count": 22,
   "metadata": {},
   "outputs": [
    {
     "name": "stdout",
     "output_type": "stream",
     "text": [
      "WARNING:tensorflow:From c:\\users\\cjwil\\appdata\\local\\programs\\python\\python37\\lib\\site-packages\\tensorflow\\python\\keras\\layers\\core.py:143: calling dropout (from tensorflow.python.ops.nn_ops) with keep_prob is deprecated and will be removed in a future version.\n",
      "Instructions for updating:\n",
      "Please use `rate` instead of `keep_prob`. Rate should be set to `rate = 1 - keep_prob`.\n"
     ]
    }
   ],
   "source": [
    "cnn_model = build_cnn()\n",
    "X_train_img = X_train.reshape(-1, 28, 28, 1)\n",
    "X_val_img = X_val.reshape(-1, 28, 28, 1)\n",
    "X_test_img = X_test.reshape(-1, 28, 28, 1)\n",
    "plot_model(cnn_model, to_file='cnn_model.png', show_shapes=True)"
   ]
  },
  {
   "cell_type": "markdown",
   "metadata": {},
   "source": [
    "![CNN Model](cnn_model.png)"
   ]
  },
  {
   "cell_type": "code",
   "execution_count": 23,
   "metadata": {
    "scrolled": true
   },
   "outputs": [
    {
     "data": {
      "text/plain": [
       "<tensorflow.python.keras.callbacks.History at 0x21f33f95710>"
      ]
     },
     "execution_count": 23,
     "metadata": {},
     "output_type": "execute_result"
    }
   ],
   "source": [
    "cnn_model.fit(X_train_img, Y_train, epochs=10, validation_data=(X_val_img, Y_val), verbose=0)"
   ]
  },
  {
   "cell_type": "markdown",
   "metadata": {},
   "source": [
    "Quickly taking a look to see how it performs on the validation data:"
   ]
  },
  {
   "cell_type": "code",
   "execution_count": 24,
   "metadata": {},
   "outputs": [
    {
     "name": "stdout",
     "output_type": "stream",
     "text": [
      "8400/8400 [==============================] - 1s 86us/sample - loss: 0.0314 - acc: 0.9925\n"
     ]
    },
    {
     "data": {
      "text/plain": [
       "[0.03139312790535942, 0.9925]"
      ]
     },
     "execution_count": 24,
     "metadata": {},
     "output_type": "execute_result"
    }
   ],
   "source": [
    "cnn_model.evaluate(X_val_img, Y_val)"
   ]
  },
  {
   "cell_type": "code",
   "execution_count": 25,
   "metadata": {},
   "outputs": [],
   "source": [
    "Y_hat_img = cnn_model.predict(X_test_img)\n",
    "Y_pred_img = np.argmax(Y_hat_img, axis=1)\n",
    "save_to_csv(Y_pred_img, 'simple_CNN.csv')"
   ]
  },
  {
   "cell_type": "markdown",
   "metadata": {},
   "source": [
    "This has an accuracy of 99.2% and landed me in the top 32%. Ways to improve this are pretty much the same for any supervised learning task: try different Network architectures, tune hyperparameters, train longer, train on more data."
   ]
  },
  {
   "cell_type": "markdown",
   "metadata": {},
   "source": [
    "## Augmenting Data"
   ]
  },
  {
   "cell_type": "markdown",
   "metadata": {},
   "source": [
    "Although there are many things I could do to make the CNN Architecture better, I'm going to keep it the same and just add more data. One thing to note is we could train multiple Networks and have them compete against each other and average their weights. This does take longer but often produces better results. Since I will be augmenting a good amount of data, I'm also going to add a callback to the model that allows it to reduce the learning rate if it has not improved in a while. Let's see how this is done!"
   ]
  },
  {
   "cell_type": "code",
   "execution_count": 26,
   "metadata": {},
   "outputs": [],
   "source": [
    "epochs = 50\n",
    "datagen = ImageDataGenerator(\n",
    "    rotation_range=10,  # Randomly rotate image within range\n",
    "    zoom_range = 0.1,  # Randomly zoom in/out\n",
    "    width_shift_range=0.1,  # Shift (fraction of total)\n",
    "    height_shift_range=0.1,  # Shift (fraction of total)\n",
    ")\n",
    "datagen.fit(X_train_img)"
   ]
  },
  {
   "cell_type": "code",
   "execution_count": 27,
   "metadata": {},
   "outputs": [],
   "source": [
    "cnn_model_datagen = build_cnn()"
   ]
  },
  {
   "cell_type": "code",
   "execution_count": 28,
   "metadata": {},
   "outputs": [
    {
     "name": "stdout",
     "output_type": "stream",
     "text": [
      "8400/8400 [==============================] - 1s 92us/sample - loss: 0.2102 - acc: 0.9500\n",
      "8400/8400 [==============================] - 1s 71us/sample - loss: 0.1009 - acc: 0.9743\n",
      "8400/8400 [==============================] - 1s 70us/sample - loss: 0.0526 - acc: 0.9860\n",
      "8400/8400 [==============================] - 1s 70us/sample - loss: 0.0849 - acc: 0.9777\n",
      "8400/8400 [==============================] - 1s 92us/sample - loss: 0.0346 - acc: 0.9899\n",
      "8400/8400 [==============================] - 1s 69us/sample - loss: 0.0322 - acc: 0.9908\n",
      "8400/8400 [==============================] - 1s 70us/sample - loss: 0.0334 - acc: 0.9907\n",
      "8400/8400 [==============================] - 1s 70us/sample - loss: 0.0385 - acc: 0.9913\n",
      "8400/8400 [==============================] - 1s 70us/sample - loss: 0.0311 - acc: 0.9900\n",
      "8400/8400 [==============================] - 1s 71us/sample - loss: 0.0282 - acc: 0.9918\n",
      "8400/8400 [==============================] - 1s 71us/sample - loss: 0.0511 - acc: 0.9880\n",
      "8400/8400 [==============================] - 1s 70us/sample - loss: 0.0439 - acc: 0.9888\n",
      "8400/8400 [==============================] - 1s 70us/sample - loss: 0.0267 - acc: 0.9929\n",
      "8400/8400 [==============================] - 1s 70us/sample - loss: 0.0296 - acc: 0.9921\n",
      "8400/8400 [==============================] - 1s 70us/sample - loss: 0.0335 - acc: 0.9929\n",
      "8400/8400 [==============================] - 1s 71us/sample - loss: 0.0301 - acc: 0.9926\n",
      "8400/8400 [==============================] - 1s 71us/sample - loss: 0.0265 - acc: 0.9938\n",
      "8400/8400 [==============================] - 1s 70us/sample - loss: 0.0289 - acc: 0.9925\n",
      "8400/8400 [==============================] - 1s 71us/sample - loss: 0.0262 - acc: 0.9933\n",
      "8400/8400 [==============================] - 1s 71us/sample - loss: 0.0290 - acc: 0.9923\n",
      "8400/8400 [==============================] - 1s 71us/sample - loss: 0.0273 - acc: 0.9939\n",
      "8400/8400 [==============================] - 1s 71us/sample - loss: 0.0234 - acc: 0.9942\n",
      "8400/8400 [==============================] - 1s 71us/sample - loss: 0.0219 - acc: 0.9946\n",
      "8400/8400 [==============================] - 1s 71us/sample - loss: 0.0253 - acc: 0.9925\n",
      "8400/8400 [==============================] - 1s 70us/sample - loss: 0.0213 - acc: 0.9952\n",
      "8400/8400 [==============================] - 1s 71us/sample - loss: 0.0304 - acc: 0.9923\n",
      "8400/8400 [==============================] - 1s 70us/sample - loss: 0.0223 - acc: 0.9938\n",
      "8400/8400 [==============================] - 1s 70us/sample - loss: 0.0209 - acc: 0.9940\n",
      "8400/8400 [==============================] - 1s 71us/sample - loss: 0.0309 - acc: 0.9933\n",
      "8400/8400 [==============================] - 1s 71us/sample - loss: 0.0286 - acc: 0.9933\n",
      "\n",
      "Epoch 00030: ReduceLROnPlateau reducing learning rate to 0.00020000000949949026.\n",
      "8400/8400 [==============================] - 1s 71us/sample - loss: 0.0165 - acc: 0.9965\n",
      "8400/8400 [==============================] - 1s 71us/sample - loss: 0.0162 - acc: 0.9963\n",
      "8400/8400 [==============================] - 1s 70us/sample - loss: 0.0166 - acc: 0.9965\n",
      "8400/8400 [==============================] - 1s 70us/sample - loss: 0.0175 - acc: 0.9957\n",
      "8400/8400 [==============================] - 1s 71us/sample - loss: 0.0167 - acc: 0.9960\n",
      "8400/8400 [==============================] - 1s 70us/sample - loss: 0.0175 - acc: 0.9955\n",
      "\n",
      "Epoch 00036: ReduceLROnPlateau reducing learning rate to 4.0000001899898055e-05.\n",
      "8400/8400 [==============================] - 1s 70us/sample - loss: 0.0168 - acc: 0.9956\n",
      "8400/8400 [==============================] - 1s 71us/sample - loss: 0.0167 - acc: 0.9961\n",
      "8400/8400 [==============================] - 1s 71us/sample - loss: 0.0165 - acc: 0.9961\n",
      "8400/8400 [==============================] - 1s 71us/sample - loss: 0.0168 - acc: 0.9962\n",
      "8400/8400 [==============================] - 1s 70us/sample - loss: 0.0169 - acc: 0.9962\n",
      "\n",
      "Epoch 00041: ReduceLROnPlateau reducing learning rate to 1e-05.\n",
      "8400/8400 [==============================] - 1s 71us/sample - loss: 0.0166 - acc: 0.9963\n",
      "8400/8400 [==============================] - 1s 71us/sample - loss: 0.0167 - acc: 0.9963\n",
      "8400/8400 [==============================] - 1s 71us/sample - loss: 0.0167 - acc: 0.9962\n",
      "8400/8400 [==============================] - 1s 70us/sample - loss: 0.0166 - acc: 0.9963\n",
      "8400/8400 [==============================] - 1s 71us/sample - loss: 0.0165 - acc: 0.9962\n",
      "8400/8400 [==============================] - 1s 71us/sample - loss: 0.0165 - acc: 0.9962\n",
      "8400/8400 [==============================] - 1s 71us/sample - loss: 0.0166 - acc: 0.9961\n",
      "8400/8400 [==============================] - 1s 71us/sample - loss: 0.0168 - acc: 0.9961\n",
      "8400/8400 [==============================] - 1s 71us/sample - loss: 0.0167 - acc: 0.9963\n"
     ]
    }
   ],
   "source": [
    "history = cnn_model_datagen.fit_generator(datagen.flow(X_train_img, Y_train, batch_size=64),\n",
    "                                         epochs=epochs, steps_per_epoch=X_train_img.shape[0]//64,\n",
    "                                         validation_data=(X_val_img, Y_val),\n",
    "                                         callbacks=[reduce_lr],\n",
    "                                         verbose=0)"
   ]
  },
  {
   "cell_type": "markdown",
   "metadata": {},
   "source": [
    "Once again taking a look at how it performs on validation data:"
   ]
  },
  {
   "cell_type": "code",
   "execution_count": 29,
   "metadata": {},
   "outputs": [
    {
     "name": "stdout",
     "output_type": "stream",
     "text": [
      "8400/8400 [==============================] - 1s 87us/sample - loss: 0.0167 - acc: 0.9963\n"
     ]
    },
    {
     "data": {
      "text/plain": [
       "[0.01668680108270705, 0.9963095]"
      ]
     },
     "execution_count": 29,
     "metadata": {},
     "output_type": "execute_result"
    }
   ],
   "source": [
    "cnn_model_datagen.evaluate(X_val_img, Y_val)"
   ]
  },
  {
   "cell_type": "markdown",
   "metadata": {},
   "source": [
    "You can see that although we do better than the previous model, we do get stuck as I reduce the learning rate. I used a watcher for the learning rate to try to improve accuracy. This makes it so if the validation accuracy plateaus for a a number of epochs, it will reduce it by some fraction, in this case .2. This could be modified and re-ran for better results, but for now I will keep it how it is. Adjusting the learning rate in this way is a good example of hyperparameter tuning. Remember, a hyperparameter is a parameter which controls the overall algorithm. Other types of hyperparameters are number of hidden units in a layer, number of hidden layers, etc."
   ]
  },
  {
   "cell_type": "code",
   "execution_count": 30,
   "metadata": {},
   "outputs": [],
   "source": [
    "Y_hat_img = cnn_model_datagen.predict(X_test_img)\n",
    "Y_pred_img = np.argmax(Y_hat_img, axis=1)\n",
    "save_to_csv(Y_pred_img, 'simple_CNN_datagen.csv')"
   ]
  },
  {
   "cell_type": "markdown",
   "metadata": {},
   "source": [
    "This gets 99.6% accuracy and moved me to top 13%."
   ]
  },
  {
   "cell_type": "markdown",
   "metadata": {},
   "source": [
    "Let's take a look at the history of the algorithm and how it performed over the different epochs:"
   ]
  },
  {
   "cell_type": "code",
   "execution_count": 31,
   "metadata": {},
   "outputs": [
    {
     "data": {
      "text/plain": [
       "<matplotlib.legend.Legend at 0x21f47508438>"
      ]
     },
     "execution_count": 31,
     "metadata": {},
     "output_type": "execute_result"
    },
    {
     "data": {
      "image/png": "[encoded data removed]",
      "text/plain": [
       "<Figure size 720x576 with 2 Axes>"
      ]
     },
     "metadata": {
      "needs_background": "light"
     },
     "output_type": "display_data"
    }
   ],
   "source": [
    "fig, ax = plt.subplots(2,1, figsize=(10,8))\n",
    "ax[0].plot(history.history['loss'], color='b', label='Training loss')\n",
    "ax[0].plot(history.history['val_loss'], color='r', label='Validation loss', axes=ax[0])\n",
    "ax[0].legend()\n",
    "\n",
    "ax[1].plot(history.history['acc'], color='b', label='Training accuracy')\n",
    "ax[1].plot(history.history['val_acc'], color='r', label='Validation accuracy')\n",
    "ax[1].legend()"
   ]
  },
  {
   "cell_type": "markdown",
   "metadata": {},
   "source": [
    "You can see it gets very high accuracy starting around epoch 15! Let's now look at the confusion matrix. Don't worry though, it isn't as confusing as it sounds. A confusion matrix is helpful for seeing what the algorithm got right and what it got wrong."
   ]
  },
  {
   "cell_type": "code",
   "execution_count": 32,
   "metadata": {},
   "outputs": [],
   "source": [
    "# Taken from https://scikit-learn.org/stable/auto_examples/model_selection/plot_confusion_matrix.html\n",
    "def plot_confusion_matrix(y_true, y_pred, classes, figsize,\n",
    "                          normalize=False,\n",
    "                          title=None,\n",
    "                          cmap=plt.cm.Blues):\n",
    "    \"\"\"\n",
    "    This function prints and plots the confusion matrix.\n",
    "    Normalization can be applied by setting `normalize=True`.\n",
    "    \"\"\"\n",
    "    if not title:\n",
    "        if normalize:\n",
    "            title = 'Normalized confusion matrix'\n",
    "        else:\n",
    "            title = 'Confusion matrix, without normalization'\n",
    "\n",
    "    # Compute confusion matrix\n",
    "    cm = confusion_matrix(y_true, y_pred)\n",
    "    if normalize:\n",
    "        cm = cm.astype('float') / cm.sum(axis=1)[:, np.newaxis]\n",
    "\n",
    "    fig, ax = plt.subplots(1,1, figsize=figsize)\n",
    "    im = ax.imshow(cm, interpolation='nearest', cmap=cmap)\n",
    "    ax.figure.colorbar(im, ax=ax)\n",
    "    # We want to show all ticks...\n",
    "    ax.set(xticks=np.arange(cm.shape[1]),\n",
    "           yticks=np.arange(cm.shape[0]),\n",
    "           # ... and label them with the respective list entries\n",
    "           xticklabels=classes, yticklabels=classes,\n",
    "           title=title,\n",
    "           ylabel='True label',\n",
    "           xlabel='Predicted label')\n",
    "\n",
    "    # Rotate the tick labels and set their alignment.\n",
    "    plt.setp(ax.get_xticklabels(), rotation=45, ha=\"right\",\n",
    "             rotation_mode=\"anchor\")\n",
    "\n",
    "    # Loop over data dimensions and create text annotations.\n",
    "    fmt = '.2f' if normalize else 'd'\n",
    "    thresh = cm.max() / 2.\n",
    "    for i in range(cm.shape[0]):\n",
    "        for j in range(cm.shape[1]):\n",
    "            ax.text(j, i, format(cm[i, j], fmt),\n",
    "                    ha=\"center\", va=\"center\",\n",
    "                    color=\"white\" if cm[i, j] > thresh else \"black\")\n",
    "    fig.tight_layout()\n",
    "#     return ax"
   ]
  },
  {
   "cell_type": "code",
   "execution_count": 33,
   "metadata": {},
   "outputs": [
    {
     "data": {
      "image/png": "[encoded data removed]",
      "text/plain": [
       "<Figure size 576x432 with 2 Axes>"
      ]
     },
     "metadata": {
      "needs_background": "light"
     },
     "output_type": "display_data"
    }
   ],
   "source": [
    "y_true = np.argmax(Y_val, axis=1)\n",
    "y_pred = cnn_model_datagen.predict(X_val_img)\n",
    "y_pred = np.argmax(y_pred, axis=1)\n",
    "plot_confusion_matrix(y_true, y_pred, range(10), (8,6), False, 'Confusion Matrix')"
   ]
  },
  {
   "cell_type": "markdown",
   "metadata": {},
   "source": [
    "The above is the confusion matrix. Down the diagonal from top-left to bottom-right you can see the number of predicted labels the Network correctly classified. Taking a look at prediction label 4, true label 9, you can see the value 2. This means that the Network misclassified two 9's and 4. That isn't bad considering it correctly identified so many!"
   ]
  },
  {
   "cell_type": "markdown",
   "metadata": {},
   "source": [
    "This is great! Using a pretty simple CNN with augmented data we were able to achieve an accuracy of over 99.6%! Of course this is only for data that already exists. You might be wondering how the model performs on real world data in real time. Let's find out!"
   ]
  },
  {
   "cell_type": "code",
   "execution_count": 34,
   "metadata": {},
   "outputs": [],
   "source": [
    "cnn_model_datagen.save('mnist_cnn_model.h5')"
   ]
  }
 ],
 "metadata": {
  "kernelspec": {
   "display_name": "Python 3",
   "language": "python",
   "name": "python3"
  },
  "language_info": {
   "codemirror_mode": {
    "name": "ipython",
    "version": 3
   },
   "file_extension": ".py",
   "mimetype": "text/x-python",
   "name": "python",
   "nbconvert_exporter": "python",
   "pygments_lexer": "ipython3",
   "version": "3.7.3"
  }
 },
 "nbformat": 4,
 "nbformat_minor": 2
}
